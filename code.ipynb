{
 "cells": [
  {
   "cell_type": "markdown",
   "id": "a5dbdc16",
   "metadata": {},
   "source": [
    "### Importing "
   ]
  },
  {
   "cell_type": "code",
   "execution_count": 1,
   "id": "97a765ac",
   "metadata": {},
   "outputs": [],
   "source": [
    "import numpy as np\n",
    "import pandas as pd\n",
    "import matplotlib.pyplot as plt\n",
    "import seaborn as sns"
   ]
  },
  {
   "cell_type": "code",
   "execution_count": 2,
   "id": "1607857a",
   "metadata": {},
   "outputs": [],
   "source": [
    "import warnings\n",
    "warnings.filterwarnings('ignore')"
   ]
  },
  {
   "cell_type": "markdown",
   "id": "3f619e21",
   "metadata": {},
   "source": [
    "### Load and Exploration of the Data"
   ]
  },
  {
   "cell_type": "code",
   "execution_count": 3,
   "id": "062d1cc3",
   "metadata": {},
   "outputs": [
    {
     "data": {
      "text/html": [
       "<div>\n",
       "<style scoped>\n",
       "    .dataframe tbody tr th:only-of-type {\n",
       "        vertical-align: middle;\n",
       "    }\n",
       "\n",
       "    .dataframe tbody tr th {\n",
       "        vertical-align: top;\n",
       "    }\n",
       "\n",
       "    .dataframe thead th {\n",
       "        text-align: right;\n",
       "    }\n",
       "</style>\n",
       "<table border=\"1\" class=\"dataframe\">\n",
       "  <thead>\n",
       "    <tr style=\"text-align: right;\">\n",
       "      <th></th>\n",
       "      <th>Date</th>\n",
       "      <th>SPX</th>\n",
       "      <th>GLD</th>\n",
       "      <th>USO</th>\n",
       "      <th>SLV</th>\n",
       "      <th>EUR/USD</th>\n",
       "    </tr>\n",
       "  </thead>\n",
       "  <tbody>\n",
       "    <tr>\n",
       "      <th>0</th>\n",
       "      <td>1/2/2008</td>\n",
       "      <td>1447.160034</td>\n",
       "      <td>84.860001</td>\n",
       "      <td>78.470001</td>\n",
       "      <td>15.180</td>\n",
       "      <td>1.471692</td>\n",
       "    </tr>\n",
       "    <tr>\n",
       "      <th>1</th>\n",
       "      <td>1/3/2008</td>\n",
       "      <td>1447.160034</td>\n",
       "      <td>85.570000</td>\n",
       "      <td>78.370003</td>\n",
       "      <td>15.285</td>\n",
       "      <td>1.474491</td>\n",
       "    </tr>\n",
       "    <tr>\n",
       "      <th>2</th>\n",
       "      <td>1/4/2008</td>\n",
       "      <td>1411.630005</td>\n",
       "      <td>85.129997</td>\n",
       "      <td>77.309998</td>\n",
       "      <td>15.167</td>\n",
       "      <td>1.475492</td>\n",
       "    </tr>\n",
       "    <tr>\n",
       "      <th>3</th>\n",
       "      <td>1/7/2008</td>\n",
       "      <td>1416.180054</td>\n",
       "      <td>84.769997</td>\n",
       "      <td>75.500000</td>\n",
       "      <td>15.053</td>\n",
       "      <td>1.468299</td>\n",
       "    </tr>\n",
       "    <tr>\n",
       "      <th>4</th>\n",
       "      <td>1/8/2008</td>\n",
       "      <td>1390.189941</td>\n",
       "      <td>86.779999</td>\n",
       "      <td>76.059998</td>\n",
       "      <td>15.590</td>\n",
       "      <td>1.557099</td>\n",
       "    </tr>\n",
       "  </tbody>\n",
       "</table>\n",
       "</div>"
      ],
      "text/plain": [
       "       Date          SPX        GLD        USO     SLV   EUR/USD\n",
       "0  1/2/2008  1447.160034  84.860001  78.470001  15.180  1.471692\n",
       "1  1/3/2008  1447.160034  85.570000  78.370003  15.285  1.474491\n",
       "2  1/4/2008  1411.630005  85.129997  77.309998  15.167  1.475492\n",
       "3  1/7/2008  1416.180054  84.769997  75.500000  15.053  1.468299\n",
       "4  1/8/2008  1390.189941  86.779999  76.059998  15.590  1.557099"
      ]
     },
     "execution_count": 3,
     "metadata": {},
     "output_type": "execute_result"
    }
   ],
   "source": [
    "data=pd.read_csv(\"gld_price_data.csv\")\n",
    "data.head()"
   ]
  },
  {
   "cell_type": "code",
   "execution_count": 4,
   "id": "267c5ea3",
   "metadata": {},
   "outputs": [
    {
     "data": {
      "text/plain": [
       "(2290, 6)"
      ]
     },
     "execution_count": 4,
     "metadata": {},
     "output_type": "execute_result"
    }
   ],
   "source": [
    "data.shape"
   ]
  },
  {
   "cell_type": "code",
   "execution_count": 5,
   "id": "c7a615f8",
   "metadata": {},
   "outputs": [
    {
     "data": {
      "text/plain": [
       "Index(['Date', 'SPX', 'GLD', 'USO', 'SLV', 'EUR/USD'], dtype='object')"
      ]
     },
     "execution_count": 5,
     "metadata": {},
     "output_type": "execute_result"
    }
   ],
   "source": [
    "data.columns"
   ]
  },
  {
   "cell_type": "code",
   "execution_count": 6,
   "id": "6e574d88",
   "metadata": {},
   "outputs": [
    {
     "name": "stdout",
     "output_type": "stream",
     "text": [
      "<class 'pandas.core.frame.DataFrame'>\n",
      "RangeIndex: 2290 entries, 0 to 2289\n",
      "Data columns (total 6 columns):\n",
      " #   Column   Non-Null Count  Dtype  \n",
      "---  ------   --------------  -----  \n",
      " 0   Date     2290 non-null   object \n",
      " 1   SPX      2290 non-null   float64\n",
      " 2   GLD      2290 non-null   float64\n",
      " 3   USO      2290 non-null   float64\n",
      " 4   SLV      2290 non-null   float64\n",
      " 5   EUR/USD  2290 non-null   float64\n",
      "dtypes: float64(5), object(1)\n",
      "memory usage: 107.5+ KB\n"
     ]
    }
   ],
   "source": [
    "data.info()"
   ]
  },
  {
   "cell_type": "code",
   "execution_count": 7,
   "id": "cd981a52",
   "metadata": {},
   "outputs": [
    {
     "data": {
      "text/html": [
       "<div>\n",
       "<style scoped>\n",
       "    .dataframe tbody tr th:only-of-type {\n",
       "        vertical-align: middle;\n",
       "    }\n",
       "\n",
       "    .dataframe tbody tr th {\n",
       "        vertical-align: top;\n",
       "    }\n",
       "\n",
       "    .dataframe thead th {\n",
       "        text-align: right;\n",
       "    }\n",
       "</style>\n",
       "<table border=\"1\" class=\"dataframe\">\n",
       "  <thead>\n",
       "    <tr style=\"text-align: right;\">\n",
       "      <th></th>\n",
       "      <th>SPX</th>\n",
       "      <th>GLD</th>\n",
       "      <th>USO</th>\n",
       "      <th>SLV</th>\n",
       "      <th>EUR/USD</th>\n",
       "    </tr>\n",
       "  </thead>\n",
       "  <tbody>\n",
       "    <tr>\n",
       "      <th>count</th>\n",
       "      <td>2290.000000</td>\n",
       "      <td>2290.000000</td>\n",
       "      <td>2290.000000</td>\n",
       "      <td>2290.000000</td>\n",
       "      <td>2290.000000</td>\n",
       "    </tr>\n",
       "    <tr>\n",
       "      <th>mean</th>\n",
       "      <td>1654.315776</td>\n",
       "      <td>122.732875</td>\n",
       "      <td>31.842221</td>\n",
       "      <td>20.084997</td>\n",
       "      <td>1.283653</td>\n",
       "    </tr>\n",
       "    <tr>\n",
       "      <th>std</th>\n",
       "      <td>519.111540</td>\n",
       "      <td>23.283346</td>\n",
       "      <td>19.523517</td>\n",
       "      <td>7.092566</td>\n",
       "      <td>0.131547</td>\n",
       "    </tr>\n",
       "    <tr>\n",
       "      <th>min</th>\n",
       "      <td>676.530029</td>\n",
       "      <td>70.000000</td>\n",
       "      <td>7.960000</td>\n",
       "      <td>8.850000</td>\n",
       "      <td>1.039047</td>\n",
       "    </tr>\n",
       "    <tr>\n",
       "      <th>25%</th>\n",
       "      <td>1239.874969</td>\n",
       "      <td>109.725000</td>\n",
       "      <td>14.380000</td>\n",
       "      <td>15.570000</td>\n",
       "      <td>1.171313</td>\n",
       "    </tr>\n",
       "    <tr>\n",
       "      <th>50%</th>\n",
       "      <td>1551.434998</td>\n",
       "      <td>120.580002</td>\n",
       "      <td>33.869999</td>\n",
       "      <td>17.268500</td>\n",
       "      <td>1.303297</td>\n",
       "    </tr>\n",
       "    <tr>\n",
       "      <th>75%</th>\n",
       "      <td>2073.010070</td>\n",
       "      <td>132.840004</td>\n",
       "      <td>37.827501</td>\n",
       "      <td>22.882500</td>\n",
       "      <td>1.369971</td>\n",
       "    </tr>\n",
       "    <tr>\n",
       "      <th>max</th>\n",
       "      <td>2872.870117</td>\n",
       "      <td>184.589996</td>\n",
       "      <td>117.480003</td>\n",
       "      <td>47.259998</td>\n",
       "      <td>1.598798</td>\n",
       "    </tr>\n",
       "  </tbody>\n",
       "</table>\n",
       "</div>"
      ],
      "text/plain": [
       "               SPX          GLD          USO          SLV      EUR/USD\n",
       "count  2290.000000  2290.000000  2290.000000  2290.000000  2290.000000\n",
       "mean   1654.315776   122.732875    31.842221    20.084997     1.283653\n",
       "std     519.111540    23.283346    19.523517     7.092566     0.131547\n",
       "min     676.530029    70.000000     7.960000     8.850000     1.039047\n",
       "25%    1239.874969   109.725000    14.380000    15.570000     1.171313\n",
       "50%    1551.434998   120.580002    33.869999    17.268500     1.303297\n",
       "75%    2073.010070   132.840004    37.827501    22.882500     1.369971\n",
       "max    2872.870117   184.589996   117.480003    47.259998     1.598798"
      ]
     },
     "execution_count": 7,
     "metadata": {},
     "output_type": "execute_result"
    }
   ],
   "source": [
    "data.describe()"
   ]
  },
  {
   "cell_type": "markdown",
   "id": "7cefc106",
   "metadata": {},
   "source": [
    "### Check for null values & perform Data Cleaning"
   ]
  },
  {
   "cell_type": "code",
   "execution_count": 8,
   "id": "83e677be",
   "metadata": {
    "scrolled": false
   },
   "outputs": [],
   "source": [
    "data=data.drop(\"Date\",axis=1)"
   ]
  },
  {
   "cell_type": "code",
   "execution_count": 9,
   "id": "8077af71",
   "metadata": {
    "scrolled": false
   },
   "outputs": [
    {
     "data": {
      "text/html": [
       "<style type=\"text/css\">\n",
       "#T_cf697_row0_col0, #T_cf697_row0_col2, #T_cf697_row1_col0, #T_cf697_row4_col4, #T_cf697_row8_col1, #T_cf697_row8_col3 {\n",
       "  background-color: #3f007d;\n",
       "  color: #f1f1f1;\n",
       "}\n",
       "#T_cf697_row0_col1, #T_cf697_row3_col4 {\n",
       "  background-color: #faf9fc;\n",
       "  color: #000000;\n",
       "}\n",
       "#T_cf697_row0_col3 {\n",
       "  background-color: #f1f0f6;\n",
       "  color: #000000;\n",
       "}\n",
       "#T_cf697_row0_col4 {\n",
       "  background-color: #f6f5f9;\n",
       "  color: #000000;\n",
       "}\n",
       "#T_cf697_row1_col1 {\n",
       "  background-color: #e8e7f2;\n",
       "  color: #000000;\n",
       "}\n",
       "#T_cf697_row1_col2 {\n",
       "  background-color: #42057f;\n",
       "  color: #f1f1f1;\n",
       "}\n",
       "#T_cf697_row1_col3 {\n",
       "  background-color: #e4e3f0;\n",
       "  color: #000000;\n",
       "}\n",
       "#T_cf697_row1_col4, #T_cf697_row2_col3 {\n",
       "  background-color: #f3f1f7;\n",
       "  color: #000000;\n",
       "}\n",
       "#T_cf697_row2_col0 {\n",
       "  background-color: #a7a4ce;\n",
       "  color: #f1f1f1;\n",
       "}\n",
       "#T_cf697_row2_col1 {\n",
       "  background-color: #f4f3f8;\n",
       "  color: #000000;\n",
       "}\n",
       "#T_cf697_row2_col2 {\n",
       "  background-color: #62429c;\n",
       "  color: #f1f1f1;\n",
       "}\n",
       "#T_cf697_row2_col4 {\n",
       "  background-color: #f2f0f7;\n",
       "  color: #000000;\n",
       "}\n",
       "#T_cf697_row3_col0, #T_cf697_row8_col0 {\n",
       "  background-color: #9692c4;\n",
       "  color: #f1f1f1;\n",
       "}\n",
       "#T_cf697_row3_col1, #T_cf697_row3_col3, #T_cf697_row5_col4, #T_cf697_row9_col0, #T_cf697_row9_col2 {\n",
       "  background-color: #fcfbfd;\n",
       "  color: #000000;\n",
       "}\n",
       "#T_cf697_row3_col2 {\n",
       "  background-color: #a3a0cb;\n",
       "  color: #f1f1f1;\n",
       "}\n",
       "#T_cf697_row4_col0, #T_cf697_row7_col4 {\n",
       "  background-color: #edebf4;\n",
       "  color: #000000;\n",
       "}\n",
       "#T_cf697_row4_col1 {\n",
       "  background-color: #b1b1d5;\n",
       "  color: #000000;\n",
       "}\n",
       "#T_cf697_row4_col2 {\n",
       "  background-color: #8c88bf;\n",
       "  color: #f1f1f1;\n",
       "}\n",
       "#T_cf697_row4_col3 {\n",
       "  background-color: #adabd2;\n",
       "  color: #000000;\n",
       "}\n",
       "#T_cf697_row5_col0 {\n",
       "  background-color: #b0afd4;\n",
       "  color: #000000;\n",
       "}\n",
       "#T_cf697_row5_col1 {\n",
       "  background-color: #bdbedc;\n",
       "  color: #000000;\n",
       "}\n",
       "#T_cf697_row5_col2 {\n",
       "  background-color: #aeacd2;\n",
       "  color: #000000;\n",
       "}\n",
       "#T_cf697_row5_col3 {\n",
       "  background-color: #bbbbdb;\n",
       "  color: #000000;\n",
       "}\n",
       "#T_cf697_row6_col0 {\n",
       "  background-color: #8784bd;\n",
       "  color: #f1f1f1;\n",
       "}\n",
       "#T_cf697_row6_col1 {\n",
       "  background-color: #6e58a7;\n",
       "  color: #f1f1f1;\n",
       "}\n",
       "#T_cf697_row6_col2 {\n",
       "  background-color: #e0dfee;\n",
       "  color: #000000;\n",
       "}\n",
       "#T_cf697_row6_col3 {\n",
       "  background-color: #5d3897;\n",
       "  color: #f1f1f1;\n",
       "}\n",
       "#T_cf697_row6_col4, #T_cf697_row9_col4 {\n",
       "  background-color: #ebe9f3;\n",
       "  color: #000000;\n",
       "}\n",
       "#T_cf697_row7_col0 {\n",
       "  background-color: #cecee5;\n",
       "  color: #000000;\n",
       "}\n",
       "#T_cf697_row7_col1 {\n",
       "  background-color: #61409b;\n",
       "  color: #f1f1f1;\n",
       "}\n",
       "#T_cf697_row7_col2 {\n",
       "  background-color: #f7f5fa;\n",
       "  color: #000000;\n",
       "}\n",
       "#T_cf697_row7_col3 {\n",
       "  background-color: #5b3495;\n",
       "  color: #f1f1f1;\n",
       "}\n",
       "#T_cf697_row8_col2 {\n",
       "  background-color: #d8d8ea;\n",
       "  color: #000000;\n",
       "}\n",
       "#T_cf697_row8_col4 {\n",
       "  background-color: #dedeed;\n",
       "  color: #000000;\n",
       "}\n",
       "#T_cf697_row9_col1 {\n",
       "  background-color: #776cb1;\n",
       "  color: #f1f1f1;\n",
       "}\n",
       "#T_cf697_row9_col3 {\n",
       "  background-color: #7e79b8;\n",
       "  color: #f1f1f1;\n",
       "}\n",
       "</style>\n",
       "<table id=\"T_cf697\">\n",
       "  <thead>\n",
       "    <tr>\n",
       "      <th class=\"blank level0\" >&nbsp;</th>\n",
       "      <th id=\"T_cf697_level0_col0\" class=\"col_heading level0 col0\" >SPX</th>\n",
       "      <th id=\"T_cf697_level0_col1\" class=\"col_heading level0 col1\" >GLD</th>\n",
       "      <th id=\"T_cf697_level0_col2\" class=\"col_heading level0 col2\" >USO</th>\n",
       "      <th id=\"T_cf697_level0_col3\" class=\"col_heading level0 col3\" >SLV</th>\n",
       "      <th id=\"T_cf697_level0_col4\" class=\"col_heading level0 col4\" >EUR/USD</th>\n",
       "    </tr>\n",
       "  </thead>\n",
       "  <tbody>\n",
       "    <tr>\n",
       "      <th id=\"T_cf697_level0_row0\" class=\"row_heading level0 row0\" >0</th>\n",
       "      <td id=\"T_cf697_row0_col0\" class=\"data row0 col0\" >1447.160034</td>\n",
       "      <td id=\"T_cf697_row0_col1\" class=\"data row0 col1\" >84.860001</td>\n",
       "      <td id=\"T_cf697_row0_col2\" class=\"data row0 col2\" >78.470001</td>\n",
       "      <td id=\"T_cf697_row0_col3\" class=\"data row0 col3\" >15.180000</td>\n",
       "      <td id=\"T_cf697_row0_col4\" class=\"data row0 col4\" >1.471692</td>\n",
       "    </tr>\n",
       "    <tr>\n",
       "      <th id=\"T_cf697_level0_row1\" class=\"row_heading level0 row1\" >1</th>\n",
       "      <td id=\"T_cf697_row1_col0\" class=\"data row1 col0\" >1447.160034</td>\n",
       "      <td id=\"T_cf697_row1_col1\" class=\"data row1 col1\" >85.570000</td>\n",
       "      <td id=\"T_cf697_row1_col2\" class=\"data row1 col2\" >78.370003</td>\n",
       "      <td id=\"T_cf697_row1_col3\" class=\"data row1 col3\" >15.285000</td>\n",
       "      <td id=\"T_cf697_row1_col4\" class=\"data row1 col4\" >1.474491</td>\n",
       "    </tr>\n",
       "    <tr>\n",
       "      <th id=\"T_cf697_level0_row2\" class=\"row_heading level0 row2\" >2</th>\n",
       "      <td id=\"T_cf697_row2_col0\" class=\"data row2 col0\" >1411.630005</td>\n",
       "      <td id=\"T_cf697_row2_col1\" class=\"data row2 col1\" >85.129997</td>\n",
       "      <td id=\"T_cf697_row2_col2\" class=\"data row2 col2\" >77.309998</td>\n",
       "      <td id=\"T_cf697_row2_col3\" class=\"data row2 col3\" >15.167000</td>\n",
       "      <td id=\"T_cf697_row2_col4\" class=\"data row2 col4\" >1.475492</td>\n",
       "    </tr>\n",
       "    <tr>\n",
       "      <th id=\"T_cf697_level0_row3\" class=\"row_heading level0 row3\" >3</th>\n",
       "      <td id=\"T_cf697_row3_col0\" class=\"data row3 col0\" >1416.180054</td>\n",
       "      <td id=\"T_cf697_row3_col1\" class=\"data row3 col1\" >84.769997</td>\n",
       "      <td id=\"T_cf697_row3_col2\" class=\"data row3 col2\" >75.500000</td>\n",
       "      <td id=\"T_cf697_row3_col3\" class=\"data row3 col3\" >15.053000</td>\n",
       "      <td id=\"T_cf697_row3_col4\" class=\"data row3 col4\" >1.468299</td>\n",
       "    </tr>\n",
       "    <tr>\n",
       "      <th id=\"T_cf697_level0_row4\" class=\"row_heading level0 row4\" >4</th>\n",
       "      <td id=\"T_cf697_row4_col0\" class=\"data row4 col0\" >1390.189941</td>\n",
       "      <td id=\"T_cf697_row4_col1\" class=\"data row4 col1\" >86.779999</td>\n",
       "      <td id=\"T_cf697_row4_col2\" class=\"data row4 col2\" >76.059998</td>\n",
       "      <td id=\"T_cf697_row4_col3\" class=\"data row4 col3\" >15.590000</td>\n",
       "      <td id=\"T_cf697_row4_col4\" class=\"data row4 col4\" >1.557099</td>\n",
       "    </tr>\n",
       "    <tr>\n",
       "      <th id=\"T_cf697_level0_row5\" class=\"row_heading level0 row5\" >5</th>\n",
       "      <td id=\"T_cf697_row5_col0\" class=\"data row5 col0\" >1409.130005</td>\n",
       "      <td id=\"T_cf697_row5_col1\" class=\"data row5 col1\" >86.550003</td>\n",
       "      <td id=\"T_cf697_row5_col2\" class=\"data row5 col2\" >75.250000</td>\n",
       "      <td id=\"T_cf697_row5_col3\" class=\"data row5 col3\" >15.520000</td>\n",
       "      <td id=\"T_cf697_row5_col4\" class=\"data row5 col4\" >1.466405</td>\n",
       "    </tr>\n",
       "    <tr>\n",
       "      <th id=\"T_cf697_level0_row6\" class=\"row_heading level0 row6\" >6</th>\n",
       "      <td id=\"T_cf697_row6_col0\" class=\"data row6 col0\" >1420.329956</td>\n",
       "      <td id=\"T_cf697_row6_col1\" class=\"data row6 col1\" >88.250000</td>\n",
       "      <td id=\"T_cf697_row6_col2\" class=\"data row6 col2\" >74.019997</td>\n",
       "      <td id=\"T_cf697_row6_col3\" class=\"data row6 col3\" >16.061001</td>\n",
       "      <td id=\"T_cf697_row6_col4\" class=\"data row6 col4\" >1.480100</td>\n",
       "    </tr>\n",
       "    <tr>\n",
       "      <th id=\"T_cf697_level0_row7\" class=\"row_heading level0 row7\" >7</th>\n",
       "      <td id=\"T_cf697_row7_col0\" class=\"data row7 col0\" >1401.020020</td>\n",
       "      <td id=\"T_cf697_row7_col1\" class=\"data row7 col1\" >88.580002</td>\n",
       "      <td id=\"T_cf697_row7_col2\" class=\"data row7 col2\" >73.089996</td>\n",
       "      <td id=\"T_cf697_row7_col3\" class=\"data row7 col3\" >16.077000</td>\n",
       "      <td id=\"T_cf697_row7_col4\" class=\"data row7 col4\" >1.479006</td>\n",
       "    </tr>\n",
       "    <tr>\n",
       "      <th id=\"T_cf697_level0_row8\" class=\"row_heading level0 row8\" >8</th>\n",
       "      <td id=\"T_cf697_row8_col0\" class=\"data row8 col0\" >1416.250000</td>\n",
       "      <td id=\"T_cf697_row8_col1\" class=\"data row8 col1\" >89.540001</td>\n",
       "      <td id=\"T_cf697_row8_col2\" class=\"data row8 col2\" >74.250000</td>\n",
       "      <td id=\"T_cf697_row8_col3\" class=\"data row8 col3\" >16.280001</td>\n",
       "      <td id=\"T_cf697_row8_col4\" class=\"data row8 col4\" >1.486900</td>\n",
       "    </tr>\n",
       "    <tr>\n",
       "      <th id=\"T_cf697_level0_row9\" class=\"row_heading level0 row9\" >9</th>\n",
       "      <td id=\"T_cf697_row9_col0\" class=\"data row9 col0\" >1380.949951</td>\n",
       "      <td id=\"T_cf697_row9_col1\" class=\"data row9 col1\" >87.989998</td>\n",
       "      <td id=\"T_cf697_row9_col2\" class=\"data row9 col2\" >72.779999</td>\n",
       "      <td id=\"T_cf697_row9_col3\" class=\"data row9 col3\" >15.834000</td>\n",
       "      <td id=\"T_cf697_row9_col4\" class=\"data row9 col4\" >1.480210</td>\n",
       "    </tr>\n",
       "  </tbody>\n",
       "</table>\n"
      ],
      "text/plain": [
       "<pandas.io.formats.style.Styler at 0x1a28122c890>"
      ]
     },
     "execution_count": 9,
     "metadata": {},
     "output_type": "execute_result"
    }
   ],
   "source": [
    "data.head(10).style.background_gradient(cmap='Purples')"
   ]
  },
  {
   "cell_type": "code",
   "execution_count": 10,
   "id": "0d114d9d",
   "metadata": {},
   "outputs": [
    {
     "data": {
      "text/html": [
       "<div>\n",
       "<style scoped>\n",
       "    .dataframe tbody tr th:only-of-type {\n",
       "        vertical-align: middle;\n",
       "    }\n",
       "\n",
       "    .dataframe tbody tr th {\n",
       "        vertical-align: top;\n",
       "    }\n",
       "\n",
       "    .dataframe thead th {\n",
       "        text-align: right;\n",
       "    }\n",
       "</style>\n",
       "<table border=\"1\" class=\"dataframe\">\n",
       "  <thead>\n",
       "    <tr style=\"text-align: right;\">\n",
       "      <th></th>\n",
       "      <th>SPX</th>\n",
       "      <th>GLD</th>\n",
       "      <th>USO</th>\n",
       "      <th>SLV</th>\n",
       "      <th>EUR/USD</th>\n",
       "    </tr>\n",
       "  </thead>\n",
       "  <tbody>\n",
       "    <tr>\n",
       "      <th>count</th>\n",
       "      <td>2290.000000</td>\n",
       "      <td>2290.000000</td>\n",
       "      <td>2290.000000</td>\n",
       "      <td>2290.000000</td>\n",
       "      <td>2290.000000</td>\n",
       "    </tr>\n",
       "    <tr>\n",
       "      <th>mean</th>\n",
       "      <td>1654.315776</td>\n",
       "      <td>122.732875</td>\n",
       "      <td>31.842221</td>\n",
       "      <td>20.084997</td>\n",
       "      <td>1.283653</td>\n",
       "    </tr>\n",
       "    <tr>\n",
       "      <th>std</th>\n",
       "      <td>519.111540</td>\n",
       "      <td>23.283346</td>\n",
       "      <td>19.523517</td>\n",
       "      <td>7.092566</td>\n",
       "      <td>0.131547</td>\n",
       "    </tr>\n",
       "    <tr>\n",
       "      <th>min</th>\n",
       "      <td>676.530029</td>\n",
       "      <td>70.000000</td>\n",
       "      <td>7.960000</td>\n",
       "      <td>8.850000</td>\n",
       "      <td>1.039047</td>\n",
       "    </tr>\n",
       "    <tr>\n",
       "      <th>25%</th>\n",
       "      <td>1239.874969</td>\n",
       "      <td>109.725000</td>\n",
       "      <td>14.380000</td>\n",
       "      <td>15.570000</td>\n",
       "      <td>1.171313</td>\n",
       "    </tr>\n",
       "    <tr>\n",
       "      <th>50%</th>\n",
       "      <td>1551.434998</td>\n",
       "      <td>120.580002</td>\n",
       "      <td>33.869999</td>\n",
       "      <td>17.268500</td>\n",
       "      <td>1.303297</td>\n",
       "    </tr>\n",
       "    <tr>\n",
       "      <th>75%</th>\n",
       "      <td>2073.010070</td>\n",
       "      <td>132.840004</td>\n",
       "      <td>37.827501</td>\n",
       "      <td>22.882500</td>\n",
       "      <td>1.369971</td>\n",
       "    </tr>\n",
       "    <tr>\n",
       "      <th>max</th>\n",
       "      <td>2872.870117</td>\n",
       "      <td>184.589996</td>\n",
       "      <td>117.480003</td>\n",
       "      <td>47.259998</td>\n",
       "      <td>1.598798</td>\n",
       "    </tr>\n",
       "  </tbody>\n",
       "</table>\n",
       "</div>"
      ],
      "text/plain": [
       "               SPX          GLD          USO          SLV      EUR/USD\n",
       "count  2290.000000  2290.000000  2290.000000  2290.000000  2290.000000\n",
       "mean   1654.315776   122.732875    31.842221    20.084997     1.283653\n",
       "std     519.111540    23.283346    19.523517     7.092566     0.131547\n",
       "min     676.530029    70.000000     7.960000     8.850000     1.039047\n",
       "25%    1239.874969   109.725000    14.380000    15.570000     1.171313\n",
       "50%    1551.434998   120.580002    33.869999    17.268500     1.303297\n",
       "75%    2073.010070   132.840004    37.827501    22.882500     1.369971\n",
       "max    2872.870117   184.589996   117.480003    47.259998     1.598798"
      ]
     },
     "execution_count": 10,
     "metadata": {},
     "output_type": "execute_result"
    }
   ],
   "source": [
    "data.describe()"
   ]
  },
  {
   "cell_type": "code",
   "execution_count": 11,
   "id": "aa6c78de",
   "metadata": {},
   "outputs": [
    {
     "data": {
      "text/plain": [
       "SPX        0\n",
       "GLD        0\n",
       "USO        0\n",
       "SLV        0\n",
       "EUR/USD    0\n",
       "dtype: int64"
      ]
     },
     "execution_count": 11,
     "metadata": {},
     "output_type": "execute_result"
    }
   ],
   "source": [
    "#checking null values\n",
    "data.isnull().sum()"
   ]
  },
  {
   "cell_type": "code",
   "execution_count": 12,
   "id": "24aacd57",
   "metadata": {},
   "outputs": [
    {
     "data": {
      "text/plain": [
       "0"
      ]
     },
     "execution_count": 12,
     "metadata": {},
     "output_type": "execute_result"
    }
   ],
   "source": [
    "#checking if there are any duplicate values\n",
    "data.duplicated().sum()"
   ]
  },
  {
   "cell_type": "raw",
   "id": "29619b6a",
   "metadata": {},
   "source": [
    "since there are no null values and no duplicated values data cleaning is not required"
   ]
  },
  {
   "cell_type": "markdown",
   "id": "e8e7fd2e",
   "metadata": {},
   "source": [
    "### Check Features Correlation"
   ]
  },
  {
   "cell_type": "code",
   "execution_count": 13,
   "id": "f894866c",
   "metadata": {},
   "outputs": [
    {
     "data": {
      "image/png": "[encoded data removed]",
      "text/plain": [
       "<Figure size 800x800 with 2 Axes>"
      ]
     },
     "metadata": {},
     "output_type": "display_data"
    }
   ],
   "source": [
    "plt.figure(figsize=(8,8))\n",
    "sns.heatmap(data.corr(), annot=True, cmap='Purples',fmt='1.1f')\n",
    "plt.title(\"Correlation Matrix Heatmap\")\n",
    "plt.show()"
   ]
  },
  {
   "cell_type": "code",
   "execution_count": 14,
   "id": "de47f9c4",
   "metadata": {},
   "outputs": [
    {
     "name": "stdout",
     "output_type": "stream",
     "text": [
      "GLD        1.000000\n",
      "SLV        0.866632\n",
      "SPX        0.049345\n",
      "EUR/USD   -0.024375\n",
      "USO       -0.186360\n",
      "Name: GLD, dtype: float64 \n",
      "\n"
     ]
    }
   ],
   "source": [
    "print (data.corr()['GLD'].sort_values(ascending=False), '\\n')"
   ]
  },
  {
   "cell_type": "markdown",
   "id": "afc0e22d",
   "metadata": {},
   "source": [
    "###  Data Visualisation"
   ]
  },
  {
   "cell_type": "code",
   "execution_count": 15,
   "id": "2208c1cb",
   "metadata": {},
   "outputs": [
    {
     "name": "stdout",
     "output_type": "stream",
     "text": [
      "Skewness: %f 0.3341383472692508\n",
      "Kurtosis: -0.275081\n"
     ]
    },
    {
     "data": {
      "image/png": "[encoded data removed]",
      "text/plain": [
       "<Figure size 640x480 with 1 Axes>"
      ]
     },
     "metadata": {},
     "output_type": "display_data"
    }
   ],
   "source": [
    "#target variable\n",
    "sns.distplot(data['GLD'], color = 'blue')\n",
    "print('Skewness: %f', data['GLD'].skew())\n",
    "print(\"Kurtosis: %f\" % data['GLD'].kurt())"
   ]
  },
  {
   "cell_type": "code",
   "execution_count": 16,
   "id": "5341d250",
   "metadata": {},
   "outputs": [
    {
     "data": {
      "text/plain": [
       "<seaborn.axisgrid.JointGrid at 0x1a2815323d0>"
      ]
     },
     "execution_count": 16,
     "metadata": {},
     "output_type": "execute_result"
    },
    {
     "data": {
      "image/png": "[encoded data removed]",
      "text/plain": [
       "<Figure size 600x600 with 3 Axes>"
      ]
     },
     "metadata": {},
     "output_type": "display_data"
    }
   ],
   "source": [
    "#the relation with GLD variable\n",
    "sns.jointplot(x =data['SLV'], y = data['GLD'], color = 'deeppink')"
   ]
  },
  {
   "cell_type": "code",
   "execution_count": 17,
   "id": "e884d570",
   "metadata": {},
   "outputs": [
    {
     "data": {
      "text/plain": [
       "<seaborn.axisgrid.JointGrid at 0x1a2813f9450>"
      ]
     },
     "execution_count": 17,
     "metadata": {},
     "output_type": "execute_result"
    },
    {
     "data": {
      "image/png": "[encoded data removed]",
      "text/plain": [
       "<Figure size 600x600 with 3 Axes>"
      ]
     },
     "metadata": {},
     "output_type": "display_data"
    }
   ],
   "source": [
    "#the relation with GLD variable\n",
    "sns.jointplot(x =data['SPX'], y = data['GLD'], color = 'purple')"
   ]
  },
  {
   "cell_type": "markdown",
   "id": "20fb725d",
   "metadata": {},
   "source": [
    "### Extract Features (X) and Labels (Y) from Data"
   ]
  },
  {
   "cell_type": "code",
   "execution_count": 18,
   "id": "9a200069",
   "metadata": {},
   "outputs": [],
   "source": [
    "from sklearn.model_selection import train_test_split"
   ]
  },
  {
   "cell_type": "code",
   "execution_count": 19,
   "id": "d7c2c6ef",
   "metadata": {},
   "outputs": [],
   "source": [
    "#Independent Variable (X) & Dependent Variable (Y)\n",
    "x=data.drop('EUR/USD',axis=1)\n",
    "y=data['EUR/USD']"
   ]
  },
  {
   "cell_type": "code",
   "execution_count": 20,
   "id": "bbdaaf7d",
   "metadata": {},
   "outputs": [
    {
     "data": {
      "text/plain": [
       "((2290, 4), (2290,))"
      ]
     },
     "execution_count": 20,
     "metadata": {},
     "output_type": "execute_result"
    }
   ],
   "source": [
    "x.shape,y.shape"
   ]
  },
  {
   "cell_type": "code",
   "execution_count": 21,
   "id": "742ad45f",
   "metadata": {},
   "outputs": [],
   "source": [
    "#Split the dataset for train and test\n",
    "x_train,x_test,y_train,y_test=train_test_split(x,y,test_size=0.2,random_state=0)"
   ]
  },
  {
   "cell_type": "code",
   "execution_count": 22,
   "id": "d57c35f3",
   "metadata": {},
   "outputs": [
    {
     "data": {
      "text/plain": [
       "((1832, 4), (458, 4), (1832,), (458,))"
      ]
     },
     "execution_count": 22,
     "metadata": {},
     "output_type": "execute_result"
    }
   ],
   "source": [
    "x_train.shape,x_test.shape,y_train.shape,y_test.shape"
   ]
  },
  {
   "cell_type": "markdown",
   "id": "8fc4350b",
   "metadata": {},
   "source": [
    "### Training the model with Random forest regression"
   ]
  },
  {
   "cell_type": "code",
   "execution_count": 23,
   "id": "ce3b54bc",
   "metadata": {},
   "outputs": [],
   "source": [
    "from sklearn.ensemble import RandomForestRegressor"
   ]
  },
  {
   "cell_type": "code",
   "execution_count": 24,
   "id": "f98fc4d9",
   "metadata": {},
   "outputs": [
    {
     "data": {
      "text/html": [
       "<style>#sk-container-id-1 {color: black;}#sk-container-id-1 pre{padding: 0;}#sk-container-id-1 div.sk-toggleable {background-color: white;}#sk-container-id-1 label.sk-toggleable__label {cursor: pointer;display: block;width: 100%;margin-bottom: 0;padding: 0.3em;box-sizing: border-box;text-align: center;}#sk-container-id-1 label.sk-toggleable__label-arrow:before {content: \"▸\";float: left;margin-right: 0.25em;color: #696969;}#sk-container-id-1 label.sk-toggleable__label-arrow:hover:before {color: black;}#sk-container-id-1 div.sk-estimator:hover label.sk-toggleable__label-arrow:before {color: black;}#sk-container-id-1 div.sk-toggleable__content {max-height: 0;max-width: 0;overflow: hidden;text-align: left;background-color: #f0f8ff;}#sk-container-id-1 div.sk-toggleable__content pre {margin: 0.2em;color: black;border-radius: 0.25em;background-color: #f0f8ff;}#sk-container-id-1 input.sk-toggleable__control:checked~div.sk-toggleable__content {max-height: 200px;max-width: 100%;overflow: auto;}#sk-container-id-1 input.sk-toggleable__control:checked~label.sk-toggleable__label-arrow:before {content: \"▾\";}#sk-container-id-1 div.sk-estimator input.sk-toggleable__control:checked~label.sk-toggleable__label {background-color: #d4ebff;}#sk-container-id-1 div.sk-label input.sk-toggleable__control:checked~label.sk-toggleable__label {background-color: #d4ebff;}#sk-container-id-1 input.sk-hidden--visually {border: 0;clip: rect(1px 1px 1px 1px);clip: rect(1px, 1px, 1px, 1px);height: 1px;margin: -1px;overflow: hidden;padding: 0;position: absolute;width: 1px;}#sk-container-id-1 div.sk-estimator {font-family: monospace;background-color: #f0f8ff;border: 1px dotted black;border-radius: 0.25em;box-sizing: border-box;margin-bottom: 0.5em;}#sk-container-id-1 div.sk-estimator:hover {background-color: #d4ebff;}#sk-container-id-1 div.sk-parallel-item::after {content: \"\";width: 100%;border-bottom: 1px solid gray;flex-grow: 1;}#sk-container-id-1 div.sk-label:hover label.sk-toggleable__label {background-color: #d4ebff;}#sk-container-id-1 div.sk-serial::before {content: \"\";position: absolute;border-left: 1px solid gray;box-sizing: border-box;top: 0;bottom: 0;left: 50%;z-index: 0;}#sk-container-id-1 div.sk-serial {display: flex;flex-direction: column;align-items: center;background-color: white;padding-right: 0.2em;padding-left: 0.2em;position: relative;}#sk-container-id-1 div.sk-item {position: relative;z-index: 1;}#sk-container-id-1 div.sk-parallel {display: flex;align-items: stretch;justify-content: center;background-color: white;position: relative;}#sk-container-id-1 div.sk-item::before, #sk-container-id-1 div.sk-parallel-item::before {content: \"\";position: absolute;border-left: 1px solid gray;box-sizing: border-box;top: 0;bottom: 0;left: 50%;z-index: -1;}#sk-container-id-1 div.sk-parallel-item {display: flex;flex-direction: column;z-index: 1;position: relative;background-color: white;}#sk-container-id-1 div.sk-parallel-item:first-child::after {align-self: flex-end;width: 50%;}#sk-container-id-1 div.sk-parallel-item:last-child::after {align-self: flex-start;width: 50%;}#sk-container-id-1 div.sk-parallel-item:only-child::after {width: 0;}#sk-container-id-1 div.sk-dashed-wrapped {border: 1px dashed gray;margin: 0 0.4em 0.5em 0.4em;box-sizing: border-box;padding-bottom: 0.4em;background-color: white;}#sk-container-id-1 div.sk-label label {font-family: monospace;font-weight: bold;display: inline-block;line-height: 1.2em;}#sk-container-id-1 div.sk-label-container {text-align: center;}#sk-container-id-1 div.sk-container {/* jupyter's `normalize.less` sets `[hidden] { display: none; }` but bootstrap.min.css set `[hidden] { display: none !important; }` so we also need the `!important` here to be able to override the default hidden behavior on the sphinx rendered scikit-learn.org. See: https://github.com/scikit-learn/scikit-learn/issues/21755 */display: inline-block !important;position: relative;}#sk-container-id-1 div.sk-text-repr-fallback {display: none;}</style><div id=\"sk-container-id-1\" class=\"sk-top-container\"><div class=\"sk-text-repr-fallback\"><pre>RandomForestRegressor(random_state=0)</pre><b>In a Jupyter environment, please rerun this cell to show the HTML representation or trust the notebook. <br />On GitHub, the HTML representation is unable to render, please try loading this page with nbviewer.org.</b></div><div class=\"sk-container\" hidden><div class=\"sk-item\"><div class=\"sk-estimator sk-toggleable\"><input class=\"sk-toggleable__control sk-hidden--visually\" id=\"sk-estimator-id-1\" type=\"checkbox\" checked><label for=\"sk-estimator-id-1\" class=\"sk-toggleable__label sk-toggleable__label-arrow\">RandomForestRegressor</label><div class=\"sk-toggleable__content\"><pre>RandomForestRegressor(random_state=0)</pre></div></div></div></div></div>"
      ],
      "text/plain": [
       "RandomForestRegressor(random_state=0)"
      ]
     },
     "execution_count": 24,
     "metadata": {},
     "output_type": "execute_result"
    }
   ],
   "source": [
    "regressor = RandomForestRegressor(n_estimators = 100, random_state = 0)\n",
    "regressor.fit(x_train, y_train)"
   ]
  },
  {
   "cell_type": "markdown",
   "id": "38d88537",
   "metadata": {},
   "source": [
    "### Prediction of the model"
   ]
  },
  {
   "cell_type": "code",
   "execution_count": 25,
   "id": "23e58136",
   "metadata": {},
   "outputs": [],
   "source": [
    "y_pred = regressor.predict(x_test)"
   ]
  },
  {
   "cell_type": "code",
   "execution_count": 26,
   "id": "c3707965",
   "metadata": {
    "scrolled": true
   },
   "outputs": [
    {
     "name": "stdout",
     "output_type": "stream",
     "text": [
      "[1.35261547 1.13356793 1.41577347 1.36259221 1.56399548 1.28038219\n",
      " 1.0564456  1.34199815 1.30066811 1.0946952  1.07529498 1.10933917\n",
      " 1.39566203 1.2818015  1.16985142 1.18181628 1.31523435 1.39351865\n",
      " 1.57995057 1.37258834 1.44357716 1.13080619 1.3583003  1.4130711\n",
      " 1.39259634 1.41089464 1.1181794  1.3138719  1.29819568 1.12023336\n",
      " 1.04919425 1.08913727 1.37596622 1.15360059 1.46351221 1.35460692\n",
      " 1.43545361 1.10748638 1.23718939 1.41570379 1.49039415 1.35813409\n",
      " 1.35030707 1.31234763 1.36082409 1.42806869 1.17895445 1.34783764\n",
      " 1.34851756 1.23593627 1.31308926 1.31314381 1.38064671 1.2418484\n",
      " 1.22409815 1.27896262 1.10262396 1.54888428 1.23725201 1.07618145\n",
      " 1.49076732 1.17618534 1.36319751 1.45872943 1.37853561 1.34960659\n",
      " 1.21914415 1.24653403 1.31632165 1.16862968 1.22825074 1.41778124\n",
      " 1.2759962  1.35654605 1.26347451 1.1110944  1.2337497  1.04337516\n",
      " 1.09436233 1.31928702 1.35938184 1.33945152 1.23776017 1.36725708\n",
      " 1.39668471 1.31093423 1.09473354 1.11993023 1.33764464 1.54028904\n",
      " 1.10330367 1.24936665 1.3181906  1.31968153 1.23526993 1.36290323\n",
      " 1.57980376 1.37641474 1.31873719 1.27136504 1.2514305  1.09665488\n",
      " 1.11333311 1.19883286 1.32947721 1.37584877 1.3224264  1.3149941\n",
      " 1.10258538 1.30221139 1.08181807 1.37366787 1.24882082 1.35580309\n",
      " 1.57444896 1.29634032 1.06193671 1.36870644 1.3182457  1.04347487\n",
      " 1.29653704 1.57459862 1.29118141 1.17534212 1.09208257 1.07516814\n",
      " 1.27911954 1.32254359 1.23669534 1.48526288 1.44711836 1.11837658\n",
      " 1.2846511  1.18533215 1.10785526 1.4959838  1.28027582 1.22306956\n",
      " 1.43438815 1.23947116 1.11805344 1.3096674  1.39176989 1.38746105\n",
      " 1.29680918 1.30002593 1.37608112 1.18028831 1.19674647 1.17652702\n",
      " 1.31424307 1.09057352 1.06987187 1.55645084 1.34125901 1.4963974\n",
      " 1.47709013 1.27801654 1.11035371 1.54846253 1.35046344 1.45652196\n",
      " 1.36079992 1.24435617 1.11723158 1.13254666 1.3769367  1.09000553\n",
      " 1.08990517 1.1195088  1.25428671 1.18151606 1.36424971 1.25368382\n",
      " 1.09571835 1.1841132  1.47802059 1.1008642  1.17887906 1.21611173\n",
      " 1.4334557  1.4077331  1.17398372 1.15040546 1.32866773 1.32466165\n",
      " 1.44887933 1.37853999 1.33246888 1.36990155 1.29295318 1.31042436\n",
      " 1.30897752 1.14825984 1.32266375 1.3348508  1.37932927 1.34692953\n",
      " 1.41120711 1.31633392 1.34372268 1.58349214 1.39247549 1.41861142\n",
      " 1.55321831 1.35802446 1.37539637 1.43040133 1.31225392 1.26879115\n",
      " 1.30374943 1.0598461  1.32592611 1.05859956 1.1303839  1.34096937\n",
      " 1.09059318 1.23317944 1.37935674 1.08814903 1.33945551 1.33829335\n",
      " 1.3609119  1.30576133 1.1213379  1.43122245 1.28787751 1.39205694\n",
      " 1.29582164 1.38079165 1.3388363  1.3754783  1.30634746 1.3101659\n",
      " 1.31874459 1.27732034 1.36128794 1.31583566 1.35115378 1.37544676\n",
      " 1.29682201 1.25806017 1.37422524 1.30723663 1.21749805 1.30691737\n",
      " 1.37748713 1.29762676 1.49137443 1.11923413 1.32327229 1.11453085\n",
      " 1.0742478  1.28696661 1.26968236 1.09900238 1.26616411 1.30853216\n",
      " 1.2439221  1.12677168 1.43802519 1.38344338 1.23186699 1.33709984\n",
      " 1.34851654 1.43181474 1.30992838 1.31707488 1.42668156 1.40618254\n",
      " 1.38752706 1.10120588 1.47526155 1.11881793 1.24345167 1.31039597\n",
      " 1.3702857  1.32987616 1.0906743  1.34329243 1.13565094 1.11605711\n",
      " 1.11902301 1.49157505 1.29992351 1.38462974 1.30634863 1.34952335\n",
      " 1.23919084 1.55230755 1.45910851 1.39545255 1.26096307 1.18028166\n",
      " 1.09856272 1.48413734 1.42773048 1.11987419 1.11496779 1.18972234\n",
      " 1.43005848 1.45869489 1.38848667 1.23668713 1.29738248 1.42979902\n",
      " 1.29671224 1.34011551 1.12052707 1.11992997 1.23190233 1.30417939\n",
      " 1.41693948 1.13024967 1.11493366 1.38731949 1.13303225 1.31115134\n",
      " 1.46881468 1.09168439 1.38750315 1.29382548 1.31705584 1.07648534\n",
      " 1.47833674 1.4456706  1.43240633 1.24763801 1.10394148 1.33724639\n",
      " 1.20566558 1.3499752  1.30746638 1.40976679 1.26623609 1.32834261\n",
      " 1.24158508 1.4353264  1.06510791 1.30627943 1.12021496 1.34738529\n",
      " 1.13104082 1.33792571 1.16584677 1.35754665 1.36017068 1.19728943\n",
      " 1.48581145 1.43761853 1.07760988 1.12616706 1.05944249 1.25378561\n",
      " 1.42530519 1.50491548 1.12971745 1.25887893 1.24025333 1.2393035\n",
      " 1.23374785 1.33883014 1.18152551 1.36228698 1.36692261 1.27399062\n",
      " 1.53661193 1.26955784 1.27629843 1.06367791 1.09235648 1.12279873\n",
      " 1.23614369 1.22974431 1.10171614 1.10700759 1.48447008 1.39925327\n",
      " 1.0951877  1.47533425 1.3520549  1.35545207 1.23210368 1.3934462\n",
      " 1.30863375 1.36499954 1.35826544 1.38121526 1.42632164 1.05919605\n",
      " 1.06615027 1.42677146 1.43490514 1.089101   1.37178663 1.11519204\n",
      " 1.33132268 1.17833868 1.46986509 1.12068594 1.19571826 1.46388773\n",
      " 1.357494   1.3271846  1.22885145 1.31610771 1.35687756 1.36299925\n",
      " 1.54912874 1.38030133 1.13470342 1.24302691 1.09297804 1.29917473\n",
      " 1.38479652 1.0649218  1.36618193 1.11219855 1.23544178 1.31677494\n",
      " 1.23539646 1.38825628 1.35904435 1.29791214 1.33093723 1.18458049\n",
      " 1.06073126 1.442975   1.08775602 1.29095684 1.12309806 1.18509469\n",
      " 1.33975626 1.12254009 1.40603381 1.31687251 1.12040601 1.53226894\n",
      " 1.3549357  1.2352531  1.33774358 1.3133642  1.31656221 1.31179164\n",
      " 1.29260076 1.31924664 1.29712785 1.29037609 1.34899269 1.3564413\n",
      " 1.15547485 1.39604119 1.06541485 1.12280369 1.38281789 1.37410268\n",
      " 1.26044937 1.12210572]\n"
     ]
    }
   ],
   "source": [
    "print(y_pred)"
   ]
  },
  {
   "cell_type": "code",
   "execution_count": 27,
   "id": "c0f4bafb",
   "metadata": {},
   "outputs": [],
   "source": [
    "def predict(SPX=0,GLD=0,USO=0,SLV=0):\n",
    "    x=np.array([SPX,GLD,USO,SLV]).reshape(-1,4)\n",
    "    price=regressor.predict(x)\n",
    "    return price"
   ]
  },
  {
   "cell_type": "code",
   "execution_count": 28,
   "id": "07935d16",
   "metadata": {},
   "outputs": [
    {
     "data": {
      "text/html": [
       "<div>\n",
       "<style scoped>\n",
       "    .dataframe tbody tr th:only-of-type {\n",
       "        vertical-align: middle;\n",
       "    }\n",
       "\n",
       "    .dataframe tbody tr th {\n",
       "        vertical-align: top;\n",
       "    }\n",
       "\n",
       "    .dataframe thead th {\n",
       "        text-align: right;\n",
       "    }\n",
       "</style>\n",
       "<table border=\"1\" class=\"dataframe\">\n",
       "  <thead>\n",
       "    <tr style=\"text-align: right;\">\n",
       "      <th></th>\n",
       "      <th>SPX</th>\n",
       "      <th>GLD</th>\n",
       "      <th>USO</th>\n",
       "      <th>SLV</th>\n",
       "    </tr>\n",
       "  </thead>\n",
       "  <tbody>\n",
       "    <tr>\n",
       "      <th>711</th>\n",
       "      <td>1309.660034</td>\n",
       "      <td>139.220001</td>\n",
       "      <td>42.049999</td>\n",
       "      <td>36.119999</td>\n",
       "    </tr>\n",
       "  </tbody>\n",
       "</table>\n",
       "</div>"
      ],
      "text/plain": [
       "             SPX         GLD        USO        SLV\n",
       "711  1309.660034  139.220001  42.049999  36.119999"
      ]
     },
     "execution_count": 28,
     "metadata": {},
     "output_type": "execute_result"
    }
   ],
   "source": [
    "x_test[2:][:1]"
   ]
  },
  {
   "cell_type": "code",
   "execution_count": 29,
   "id": "1b35b06a",
   "metadata": {},
   "outputs": [
    {
     "data": {
      "text/plain": [
       "711    1.410596\n",
       "Name: EUR/USD, dtype: float64"
      ]
     },
     "execution_count": 29,
     "metadata": {},
     "output_type": "execute_result"
    }
   ],
   "source": [
    "y_test[2:][:1]"
   ]
  },
  {
   "cell_type": "code",
   "execution_count": 30,
   "id": "6f4a8b2a",
   "metadata": {},
   "outputs": [
    {
     "name": "stdout",
     "output_type": "stream",
     "text": [
      "[1.41577347]\n"
     ]
    }
   ],
   "source": [
    "y_prediction=predict(1309.660034,139.220001,42.049999,36.119999)\n",
    "print(y_prediction)"
   ]
  },
  {
   "cell_type": "markdown",
   "id": "75d465ce",
   "metadata": {},
   "source": [
    "### Checking the error for regression"
   ]
  },
  {
   "cell_type": "code",
   "execution_count": 31,
   "id": "07a10432",
   "metadata": {},
   "outputs": [],
   "source": [
    "from sklearn import metrics"
   ]
  },
  {
   "cell_type": "code",
   "execution_count": 33,
   "id": "7d95244f",
   "metadata": {},
   "outputs": [
    {
     "name": "stdout",
     "output_type": "stream",
     "text": [
      "mean_absolute_error : 0.011853381113537117\n",
      "mean_squared_error : 0.0003323523646509436\n",
      "root_mean_squared_error : 0.018230533855346738\n"
     ]
    }
   ],
   "source": [
    "print('mean_absolute_error :', metrics.mean_absolute_error(y_test,y_pred))\n",
    "print('mean_squared_error :', metrics.mean_squared_error(y_test,y_pred))\n",
    "print('root_mean_squared_error :', np.sqrt(metrics.mean_squared_error(y_test,y_pred)))"
   ]
  },
  {
   "cell_type": "markdown",
   "id": "ed445a66",
   "metadata": {},
   "source": [
    "###  Accuracy of Training and Testing Set"
   ]
  },
  {
   "cell_type": "code",
   "execution_count": 34,
   "id": "bbea7d07",
   "metadata": {},
   "outputs": [
    {
     "name": "stdout",
     "output_type": "stream",
     "text": [
      "accuracy_train : 0.9972777088606456\n",
      "accuracy_test : 0.979243070355382\n"
     ]
    }
   ],
   "source": [
    "accuracy_train = regressor.score(x_train, y_train)\n",
    "accuracy_test = regressor.score(x_test, y_test)\n",
    "print(\"accuracy_train :\",accuracy_train)\n",
    "print(\"accuracy_test :\",accuracy_test)"
   ]
  }
 ],
 "metadata": {
  "kernelspec": {
   "display_name": "Python 3 (ipykernel)",
   "language": "python",
   "name": "python3"
  },
  "language_info": {
   "codemirror_mode": {
    "name": "ipython",
    "version": 3
   },
   "file_extension": ".py",
   "mimetype": "text/x-python",
   "name": "python",
   "nbconvert_exporter": "python",
   "pygments_lexer": "ipython3",
   "version": "3.11.5"
  }
 },
 "nbformat": 4,
 "nbformat_minor": 5
}
